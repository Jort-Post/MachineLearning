{
 "cells": [
  {
   "cell_type": "markdown",
   "id": "0e199ea4-1917-45b2-a155-a3824545871f",
   "metadata": {},
   "source": [
    "**PRML 1.2 Probability Theory**\n",
    "\n",
    "Joint probability of X and Y:\n",
    "$p(X = x_{\\text{$i$}}, Y = y_{\\text{$j$}}) = \\frac{n_{\\text{$ij$}}}{N}$\n",
    "\n",
    "Here, $n_{\\text{$ij$}}$ denotes the number of instances where $X = x_{\\text{$i$}}$ and $Y = y_{\\text{$j$}}$. Dividing this by the total N trials gives the probability that both $x_{\\text{$i$}}$ and $y_{\\text{$j$}}$ happen.\n",
    "\n",
    "Visualize a grid with $j$-th rows and $i$-th columns, then $n_{\\text{$ij$}}$ is a cell inside this grid.\n",
    "\n",
    "Exercise 1.3 \n"
   ]
  },
  {
   "cell_type": "code",
   "execution_count": null,
   "id": "3a4a0103-ed7f-4340-b90a-2ae467d6ac1c",
   "metadata": {},
   "outputs": [],
   "source": []
  }
 ],
 "metadata": {
  "kernelspec": {
   "display_name": "Python 3 (ipykernel)",
   "language": "python",
   "name": "python3"
  },
  "language_info": {
   "codemirror_mode": {
    "name": "ipython",
    "version": 3
   },
   "file_extension": ".py",
   "mimetype": "text/x-python",
   "name": "python",
   "nbconvert_exporter": "python",
   "pygments_lexer": "ipython3",
   "version": "3.11.7"
  }
 },
 "nbformat": 4,
 "nbformat_minor": 5
}
